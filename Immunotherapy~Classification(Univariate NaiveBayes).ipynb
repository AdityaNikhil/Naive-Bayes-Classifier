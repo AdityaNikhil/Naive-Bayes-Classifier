{
 "cells": [
  {
   "cell_type": "markdown",
   "metadata": {},
   "source": [
    "# We're going to classify whether Result of treatment is 0 or 1 depending upon Time Feature and compare the results with original data and find out how accurate our values are when compared to original results"
   ]
  },
  {
   "cell_type": "code",
   "execution_count": 1,
   "metadata": {},
   "outputs": [],
   "source": [
    "import pandas as pd\n",
    "import numpy as np\n",
    "import matplotlib.pyplot as plt\n",
    "import random\n"
   ]
  },
  {
   "cell_type": "code",
   "execution_count": 2,
   "metadata": {},
   "outputs": [],
   "source": [
    "df=pd.read_excel('Immunotherapy.xlsx')"
   ]
  },
  {
   "cell_type": "code",
   "execution_count": 4,
   "metadata": {},
   "outputs": [
    {
     "data": {
      "text/html": [
       "<div>\n",
       "<style scoped>\n",
       "    .dataframe tbody tr th:only-of-type {\n",
       "        vertical-align: middle;\n",
       "    }\n",
       "\n",
       "    .dataframe tbody tr th {\n",
       "        vertical-align: top;\n",
       "    }\n",
       "\n",
       "    .dataframe thead th {\n",
       "        text-align: right;\n",
       "    }\n",
       "</style>\n",
       "<table border=\"1\" class=\"dataframe\">\n",
       "  <thead>\n",
       "    <tr style=\"text-align: right;\">\n",
       "      <th></th>\n",
       "      <th>sex</th>\n",
       "      <th>age</th>\n",
       "      <th>Time</th>\n",
       "      <th>Number_of_Warts</th>\n",
       "      <th>Type</th>\n",
       "      <th>Area</th>\n",
       "      <th>induration_diameter</th>\n",
       "      <th>Result_of_Treatment</th>\n",
       "    </tr>\n",
       "  </thead>\n",
       "  <tbody>\n",
       "    <tr>\n",
       "      <th>sex</th>\n",
       "      <td>1.000000</td>\n",
       "      <td>0.043682</td>\n",
       "      <td>-0.014825</td>\n",
       "      <td>0.100785</td>\n",
       "      <td>-0.104623</td>\n",
       "      <td>-0.115664</td>\n",
       "      <td>0.015202</td>\n",
       "      <td>0.018831</td>\n",
       "    </tr>\n",
       "    <tr>\n",
       "      <th>age</th>\n",
       "      <td>0.043682</td>\n",
       "      <td>1.000000</td>\n",
       "      <td>0.188981</td>\n",
       "      <td>0.000092</td>\n",
       "      <td>-0.056636</td>\n",
       "      <td>-0.064334</td>\n",
       "      <td>-0.007005</td>\n",
       "      <td>-0.188314</td>\n",
       "    </tr>\n",
       "    <tr>\n",
       "      <th>Time</th>\n",
       "      <td>-0.014825</td>\n",
       "      <td>0.188981</td>\n",
       "      <td>1.000000</td>\n",
       "      <td>0.050800</td>\n",
       "      <td>-0.262870</td>\n",
       "      <td>-0.047254</td>\n",
       "      <td>-0.183656</td>\n",
       "      <td>-0.361172</td>\n",
       "    </tr>\n",
       "    <tr>\n",
       "      <th>Number_of_Warts</th>\n",
       "      <td>0.100785</td>\n",
       "      <td>0.000092</td>\n",
       "      <td>0.050800</td>\n",
       "      <td>1.000000</td>\n",
       "      <td>0.148047</td>\n",
       "      <td>-0.107528</td>\n",
       "      <td>0.062383</td>\n",
       "      <td>-0.047160</td>\n",
       "    </tr>\n",
       "    <tr>\n",
       "      <th>Type</th>\n",
       "      <td>-0.104623</td>\n",
       "      <td>-0.056636</td>\n",
       "      <td>-0.262870</td>\n",
       "      <td>0.148047</td>\n",
       "      <td>1.000000</td>\n",
       "      <td>-0.042080</td>\n",
       "      <td>0.205546</td>\n",
       "      <td>0.083396</td>\n",
       "    </tr>\n",
       "    <tr>\n",
       "      <th>Area</th>\n",
       "      <td>-0.115664</td>\n",
       "      <td>-0.064334</td>\n",
       "      <td>-0.047254</td>\n",
       "      <td>-0.107528</td>\n",
       "      <td>-0.042080</td>\n",
       "      <td>1.000000</td>\n",
       "      <td>0.119262</td>\n",
       "      <td>0.043349</td>\n",
       "    </tr>\n",
       "    <tr>\n",
       "      <th>induration_diameter</th>\n",
       "      <td>0.015202</td>\n",
       "      <td>-0.007005</td>\n",
       "      <td>-0.183656</td>\n",
       "      <td>0.062383</td>\n",
       "      <td>0.205546</td>\n",
       "      <td>0.119262</td>\n",
       "      <td>1.000000</td>\n",
       "      <td>-0.031273</td>\n",
       "    </tr>\n",
       "    <tr>\n",
       "      <th>Result_of_Treatment</th>\n",
       "      <td>0.018831</td>\n",
       "      <td>-0.188314</td>\n",
       "      <td>-0.361172</td>\n",
       "      <td>-0.047160</td>\n",
       "      <td>0.083396</td>\n",
       "      <td>0.043349</td>\n",
       "      <td>-0.031273</td>\n",
       "      <td>1.000000</td>\n",
       "    </tr>\n",
       "  </tbody>\n",
       "</table>\n",
       "</div>"
      ],
      "text/plain": [
       "                          sex       age      Time  Number_of_Warts      Type  \\\n",
       "sex                  1.000000  0.043682 -0.014825         0.100785 -0.104623   \n",
       "age                  0.043682  1.000000  0.188981         0.000092 -0.056636   \n",
       "Time                -0.014825  0.188981  1.000000         0.050800 -0.262870   \n",
       "Number_of_Warts      0.100785  0.000092  0.050800         1.000000  0.148047   \n",
       "Type                -0.104623 -0.056636 -0.262870         0.148047  1.000000   \n",
       "Area                -0.115664 -0.064334 -0.047254        -0.107528 -0.042080   \n",
       "induration_diameter  0.015202 -0.007005 -0.183656         0.062383  0.205546   \n",
       "Result_of_Treatment  0.018831 -0.188314 -0.361172        -0.047160  0.083396   \n",
       "\n",
       "                         Area  induration_diameter  Result_of_Treatment  \n",
       "sex                 -0.115664             0.015202             0.018831  \n",
       "age                 -0.064334            -0.007005            -0.188314  \n",
       "Time                -0.047254            -0.183656            -0.361172  \n",
       "Number_of_Warts     -0.107528             0.062383            -0.047160  \n",
       "Type                -0.042080             0.205546             0.083396  \n",
       "Area                 1.000000             0.119262             0.043349  \n",
       "induration_diameter  0.119262             1.000000            -0.031273  \n",
       "Result_of_Treatment  0.043349            -0.031273             1.000000  "
      ]
     },
     "execution_count": 4,
     "metadata": {},
     "output_type": "execute_result"
    }
   ],
   "source": [
    "df.corr()"
   ]
  },
  {
   "cell_type": "code",
   "execution_count": 5,
   "metadata": {},
   "outputs": [],
   "source": [
    "target=df['Result_of_Treatment']\n",
    "feature=df['Time']"
   ]
  },
  {
   "cell_type": "code",
   "execution_count": 61,
   "metadata": {
    "scrolled": true
   },
   "outputs": [],
   "source": [
    "p_pos=len(df[df['Result_of_Treatment']==1])/len(df)  #Probability that Result is 1 \n",
    "p_neg=len(df[df['Result_of_Treatment']==0])/len(df)  #Probability that Result is 0"
   ]
  },
  {
   "cell_type": "markdown",
   "metadata": {},
   "source": [
    "# Considering Gaussian Distribution for Time "
   ]
  },
  {
   "cell_type": "code",
   "execution_count": 62,
   "metadata": {},
   "outputs": [],
   "source": [
    "def prior_prob(x,mean,std):\n",
    "    return (1/((2*np.pi)**0.5*std))*np.exp((-(x-mean)/std))**2\n",
    "def posterior_pos(x,mean_pos,std_pos,mean_neg,std_neg):\n",
    "    return (prior_prob(x,mean_pos,std_pos)*p_pos)/((prior_prob(x,mean_pos,std_pos))*p_pos+(prior_prob(x,mean_neg,std_neg)*p_neg))\n",
    "def posterior_neg(x,mean_pos,std_pos,mean_neg,std_neg):\n",
    "    return (prior_prob(x,mean_neg,std_neg)*p_neg)/((prior_prob(x,mean_pos,std_pos))*p_pos+(prior_prob(x,mean_neg,std_neg)*p_neg))\n"
   ]
  },
  {
   "cell_type": "markdown",
   "metadata": {},
   "source": [
    "# Making accuracy function"
   ]
  },
  {
   "cell_type": "code",
   "execution_count": 58,
   "metadata": {},
   "outputs": [],
   "source": [
    "def accuracy(predicted,actual):\n",
    "    correct=0\n",
    "    for i in range(len(predicted)):\n",
    "        if(predicted[i]==actual.iloc[i]):\n",
    "            correct+=1\n",
    "    return (correct/len(actual))*100"
   ]
  },
  {
   "cell_type": "code",
   "execution_count": 63,
   "metadata": {},
   "outputs": [],
   "source": [
    "mean_pos=np.mean(df[df['Result_of_Treatment']==1]['Time'])  #Mean of all those Time values whose Result is '1'\n",
    "mean_neg=np.mean(df[df['Result_of_Treatment']==0]['Time'])  #Mean of all those Time values whose Result is '0'\n",
    "\n",
    "std_pos=np.std(df[df['Result_of_Treatment']==1]['Time'])\n",
    "std_neg=np.std(df[df['Result_of_Treatment']==0]['Time'])"
   ]
  },
  {
   "cell_type": "code",
   "execution_count": 64,
   "metadata": {},
   "outputs": [],
   "source": [
    "q=0\n",
    "r=0\n",
    "predicted_class=[]\n",
    "for i in range(len(df)):\n",
    "    q=posterior_pos(feature.iloc[i],mean_pos,std_pos,mean_neg,std_neg)\n",
    "    r=posterior_neg(feature.iloc[i],mean_pos,std_pos,mean_neg,std_neg)\n",
    "    if(q>r):\n",
    "        predicted_class.append(1)\n",
    "    else:\n",
    "        predicted_class.append(0)"
   ]
  },
  {
   "cell_type": "code",
   "execution_count": 65,
   "metadata": {},
   "outputs": [
    {
     "data": {
      "text/plain": [
       "48.888888888888886"
      ]
     },
     "execution_count": 65,
     "metadata": {},
     "output_type": "execute_result"
    }
   ],
   "source": [
    "accuracy(predicted_class,target)"
   ]
  },
  {
   "cell_type": "code",
   "execution_count": null,
   "metadata": {},
   "outputs": [],
   "source": []
  }
 ],
 "metadata": {
  "kernelspec": {
   "display_name": "Python 3",
   "language": "python",
   "name": "python3"
  },
  "language_info": {
   "codemirror_mode": {
    "name": "ipython",
    "version": 3
   },
   "file_extension": ".py",
   "mimetype": "text/x-python",
   "name": "python",
   "nbconvert_exporter": "python",
   "pygments_lexer": "ipython3",
   "version": "3.7.1"
  }
 },
 "nbformat": 4,
 "nbformat_minor": 2
}
